{
 "cells": [
  {
   "cell_type": "code",
   "execution_count": 1,
   "metadata": {},
   "outputs": [],
   "source": [
    "from laserhockey_main import main\n",
    "#from debug_env_main import main\n",
    "import pylab as plt\n",
    "import numpy as np\n",
    "#import laserhockey.hockey_env as h_env"
   ]
  },
  {
   "cell_type": "code",
   "execution_count": 2,
   "metadata": {},
   "outputs": [],
   "source": [
    "def running_mean(x, N):\n",
    "    return np.convolve(x, np.ones(N)/N, mode='valid')"
   ]
  },
  {
   "cell_type": "code",
   "execution_count": 3,
   "metadata": {},
   "outputs": [],
   "source": [
    "env, m3ddpg = main()"
   ]
  },
  {
   "cell_type": "code",
   "execution_count": 4,
   "metadata": {},
   "outputs": [],
   "source": [
    "#reintroduce small penalty for losing a score"
   ]
  },
  {
   "cell_type": "code",
   "execution_count": 13,
   "metadata": {},
   "outputs": [
    {
     "name": "stderr",
     "output_type": "stream",
     "text": [
      "100%|█████████████████████████████████████████████████████████████████████| 1000000/1000000 [2:44:09<00:00, 101.52it/s]\n"
     ]
    }
   ],
   "source": [
    "rewards = m3ddpg.train(1000000)"
   ]
  },
  {
   "cell_type": "code",
   "execution_count": 4,
   "metadata": {},
   "outputs": [],
   "source": [
    "PREFIX = \"MADDPG\"\n",
    "DIR_PATH = \"./models/\"\n",
    "NUM_ACTORS = 2\n",
    "#ITERATIONS = m3ddpg.total_iterations\n",
    "ITERATIONS = 1100000\n",
    "#m3ddpg.total_iterations = ITERATIONS"
   ]
  },
  {
   "cell_type": "code",
   "execution_count": 11,
   "metadata": {},
   "outputs": [],
   "source": [
    "m3ddpg.save_status(dir_path=DIR_PATH, prefix=PREFIX)"
   ]
  },
  {
   "cell_type": "code",
   "execution_count": 18,
   "metadata": {},
   "outputs": [
    {
     "data": {
      "text/plain": [
       "<matplotlib.legend.Legend at 0x24bd0b00cf8>"
      ]
     },
     "execution_count": 18,
     "metadata": {},
     "output_type": "execute_result"
    },
    {
     "data": {
      "image/png": "[encoded data removed]",
      "text/plain": [
       "<Figure size 432x288 with 1 Axes>"
      ]
     },
     "metadata": {
      "needs_background": "light"
     },
     "output_type": "display_data"
    }
   ],
   "source": [
    "plt.close()\n",
    "plt.plot(running_mean(rewards[:,0],10), label=\"Left Actor\")\n",
    "plt.plot(running_mean(rewards[:,1],10), label=\"Right Actor\")\n",
    "plt.plot(running_mean(np.array(rewards).sum(axis=1),10), label=\"score sum\")\n",
    "plt.legend()"
   ]
  },
  {
   "cell_type": "code",
   "execution_count": 5,
   "metadata": {},
   "outputs": [],
   "source": [
    "actor_file_names, critic_file_names, actor_optimizer_file_names, critic_optimizer_file_names = [], [], [], []\n",
    "for i in range(NUM_ACTORS):\n",
    "    actor_file_names.append(f'{PREFIX}_actor{i}_{ITERATIONS}its.pt')\n",
    "    critic_file_names.append(f'{PREFIX}_critic{i}_{ITERATIONS}its.pt')\n",
    "    actor_optimizer_file_names.append(f'{PREFIX}_actor{i}_optimizer_{ITERATIONS}its.pt')\n",
    "    critic_optimizer_file_names.append(f'{PREFIX}_critic{i}_optimizer_{ITERATIONS}its.pt')\n",
    "    \n",
    "\n",
    "m3ddpg.load_status(dir_path=DIR_PATH, \n",
    "                   actor_file_names=actor_file_names,\n",
    "                  critic_file_names=critic_file_names,\n",
    "                  actor_optimizer_file_names=actor_optimizer_file_names,\n",
    "                  critic_optimizer_file_names=critic_optimizer_file_names)"
   ]
  },
  {
   "cell_type": "code",
   "execution_count": 15,
   "metadata": {},
   "outputs": [],
   "source": [
    "actor_left = m3ddpg.get_policy(0)\n",
    "actor_right = m3ddpg.get_policy(1)"
   ]
  },
  {
   "cell_type": "code",
   "execution_count": 16,
   "metadata": {},
   "outputs": [],
   "source": [
    "for _ in range(10):\n",
    "    state, obs = env.reset()\n",
    "    for _ in range(250):\n",
    "        action1 = actor_left(obs[0])\n",
    "        action2 = actor_right(obs[1])\n",
    "        state, obs, r, d, info = env.step(np.hstack([action1,action2]))\n",
    "        env.render()\n",
    "        if d: break\n",
    "env.close()"
   ]
  },
  {
   "cell_type": "code",
   "execution_count": null,
   "metadata": {},
   "outputs": [],
   "source": []
  }
 ],
 "metadata": {
  "kernelspec": {
   "display_name": "Python 3",
   "language": "python",
   "name": "python3"
  },
  "language_info": {
   "codemirror_mode": {
    "name": "ipython",
    "version": 3
   },
   "file_extension": ".py",
   "mimetype": "text/x-python",
   "name": "python",
   "nbconvert_exporter": "python",
   "pygments_lexer": "ipython3",
   "version": "3.6.12"
  }
 },
 "nbformat": 4,
 "nbformat_minor": 4
}
